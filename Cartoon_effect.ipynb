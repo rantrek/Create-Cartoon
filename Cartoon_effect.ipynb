{
 "cells": [
  {
   "cell_type": "code",
   "execution_count": 2,
   "metadata": {},
   "outputs": [],
   "source": [
    "#Generating a cartoon effect of an image using OpenCV image processing library\n",
    "#Image processing techniques used:\n",
    "#- Filtering\n",
    "#- Edge Detection\n",
    "#- Thresholding\n",
    "#- Mask\n",
    "#- Bitwise Operations\n",
    "\n",
    "#Import Libraries\n",
    "import cv2\n",
    "import numpy as np\n",
    "import matplotlib.pyplot as plt\n",
    "from matplotlib import cm\n",
    "%matplotlib inline\n",
    "from pylab import *"
   ]
  },
  {
   "cell_type": "code",
   "execution_count": 16,
   "metadata": {},
   "outputs": [],
   "source": [
    "#Load image file\n",
    "original = cv2.imread(\"Murf5.png\")\n"
   ]
  },
  {
   "cell_type": "code",
   "execution_count": 17,
   "metadata": {},
   "outputs": [],
   "source": [
    "#Apply bilateral filter to reduce the colour palette \n",
    "\n",
    "filtered = cv2.bilateralFilter(original, 9, 9, 2)\n"
   ]
  },
  {
   "cell_type": "code",
   "execution_count": 18,
   "metadata": {},
   "outputs": [],
   "source": [
    "#Convert to grayscale image\n",
    "grey = cv2.cvtColor(filtered,cv2.COLOR_BGR2GRAY)\n",
    "\n"
   ]
  },
  {
   "cell_type": "code",
   "execution_count": 19,
   "metadata": {},
   "outputs": [],
   "source": [
    "#Apply median filter to reduce noise and smoothen edges using median blur or Gaussian blur filters\n",
    "\n",
    "#blur = cv2.medianBlur(grey,5)\n",
    "blur = cv2.GaussianBlur(grey,(5,5),0)"
   ]
  },
  {
   "cell_type": "code",
   "execution_count": 20,
   "metadata": {},
   "outputs": [],
   "source": [
    "#Create edge mask using adaptive thresholding (for detecting and enhancing the edges)\n",
    "edge = cv2.adaptiveThreshold(blur,255, cv2.ADAPTIVE_THRESH_GAUSSIAN_C,cv2.THRESH_BINARY, 9, 2)\n"
   ]
  },
  {
   "cell_type": "code",
   "execution_count": 21,
   "metadata": {},
   "outputs": [],
   "source": [
    "#Combine the processed colour image and edge mask using bitwise operation\n",
    "cartoon = cv2.bitwise_and(filtered, filtered, mask=edge)"
   ]
  },
  {
   "cell_type": "code",
   "execution_count": 1,
   "metadata": {},
   "outputs": [],
   "source": [
    "#Display images\n",
    "figure(figsize = (15,15))\n",
    "\n",
    "subplot(2,2,1)\n",
    "plt.imshow(original)\n",
    "plt.title('Original')\n",
    "\n",
    "subplot(2,2,2)\n",
    "plt.imshow(cartoon)\n",
    "plt.title('cartoon')\n",
    "\n",
    "#subplot(2,2,3)\n",
    "#plt.imshow(edge)\n",
    "#plt.title('edges')\n",
    "\n",
    "#subplot(2,2,4)\n",
    "#plt.imshow(blur)\n",
    "#plt.title('blurred')\n"
   ]
  },
  {
   "cell_type": "code",
   "execution_count": 23,
   "metadata": {
    "collapsed": true
   },
   "outputs": [
    {
     "data": {
      "text/plain": [
       "True"
      ]
     },
     "execution_count": 23,
     "metadata": {},
     "output_type": "execute_result"
    }
   ],
   "source": [
    "cv2.imwrite('murf5_mod.jpg',cartoon)"
   ]
  },
  {
   "cell_type": "code",
   "execution_count": 27,
   "metadata": {},
   "outputs": [],
   "source": [
    "#oil painting effect\n",
    "\n",
    "oil_p= cv2.xphoto.oilPainting(original, 7, 1)\n",
    "cv2.imwrite('murf5_oilp.jpg',oil_p)"
   ]
  },
  {
   "cell_type": "code",
   "execution_count": 25,
   "metadata": {},
   "outputs": [
    {
     "data": {
      "text/plain": [
       "True"
      ]
     },
     "execution_count": 25,
     "metadata": {},
     "output_type": "execute_result"
    }
   ],
   "source": [
    "#watercolour effect\n",
    "\n",
    "water_c = cv2.stylization(original, sigma_s=60, sigma_r=0.6)\n",
    "cv2.imwrite('murf5_wc.jpg', water_c)"
   ]
  },
  {
   "cell_type": "code",
   "execution_count": 26,
   "metadata": {},
   "outputs": [
    {
     "data": {
      "text/plain": [
       "True"
      ]
     },
     "execution_count": 26,
     "metadata": {},
     "output_type": "execute_result"
    }
   ],
   "source": [
    "#Black/White and colour sketches\n",
    "\n",
    "dst_gray, dst_color = cv2.pencilSketch(original, sigma_s=60, sigma_r=0.07, shade_factor=0.05)\n",
    "cv2.imwrite('murf5_bw.jpg', dst_gray)\n",
    "cv2.imwrite('murf5_ck.jpg', dst_color)"
   ]
  }
 ],
 "metadata": {
  "kernelspec": {
   "display_name": "Python 3.9.7 ('neuroR')",
   "language": "python",
   "name": "python3"
  },
  "language_info": {
   "codemirror_mode": {
    "name": "ipython",
    "version": 3
   },
   "file_extension": ".py",
   "mimetype": "text/x-python",
   "name": "python",
   "nbconvert_exporter": "python",
   "pygments_lexer": "ipython3",
   "version": "3.9.7"
  },
  "vscode": {
   "interpreter": {
    "hash": "2af3fca82ee1f46d371eacc8132ae8b7dafbfc67d428fcb81ca1ec772dbb3ca8"
   }
  }
 },
 "nbformat": 4,
 "nbformat_minor": 2
}
